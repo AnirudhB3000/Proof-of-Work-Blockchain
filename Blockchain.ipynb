{
 "cells": [
  {
   "cell_type": "code",
   "execution_count": 1,
   "id": "c6e0ac31",
   "metadata": {},
   "outputs": [],
   "source": [
    "#Libraries:\n",
    "import datetime\n",
    "import hashlib\n",
    "import json\n",
    "from flask import Flask, jsonify"
   ]
  },
  {
   "cell_type": "code",
   "execution_count": 2,
   "id": "de9b5320",
   "metadata": {},
   "outputs": [],
   "source": [
    "#Blockchain \n",
    "class Blockchain:\n",
    "    \n",
    "    def __init__(self):\n",
    "        self.chain = []\n",
    "        self.create_block(proof = 1, previous_hash = '0')\n",
    "    \n",
    "    def create_block(self, proof, previous_hash):\n",
    "        block = {'index': len(self.chain) + 1,\n",
    "                 'timestamp': str(datetime.datetime.now()),\n",
    "                 'proof': proof,\n",
    "                 'previous_hash': previous_hash} #not for genesis block\n",
    "        self.chain.append(block)\n",
    "        return block\n",
    "\n",
    "    def get_previous_block(self):\n",
    "        return self.chain[-1] #index of the previous block\n",
    "\n",
    "    def proof_of_work(self, previous_proof):\n",
    "        new_proof = 1\n",
    "        check_proof = False\n",
    "        while check_proof is False:\n",
    "            hash_operation = hashlib.sha256(str(new_proof**3 - previous_proof**2).encode()).hexdigest() #mathematical problem to create suitable hash\n",
    "            if hash_operation[:4] == '0000': #standard difficulty, \n",
    "                check_proof = True\n",
    "            else:\n",
    "                new_proof += 1\n",
    "        return new_proof\n",
    "    \n",
    "    def hash(self, block):\n",
    "        encoded_block = json.dumps(block, sort_keys = True).encode()\n",
    "        return hashlib.sha256(encoded_block).hexdigest()\n",
    "    \n",
    "    def is_chain_valid(self, chain):\n",
    "        previous_block = chain[0]\n",
    "        block_index = 1\n",
    "        while block_index < len(chain):\n",
    "            block = chain[block_index]\n",
    "            if block['previous_hash'] != self.hash(previous_block):\n",
    "                return False\n",
    "            previous_proof = previous_block['proof']\n",
    "            proof = block['proof']\n",
    "            hash_operation = hashlib.sha256(str(proof**3 - previous_proof**2).encode()).hexdigest()\n",
    "            if hash_operation[:4] != '0000':\n",
    "                return False\n",
    "            previous_block = block\n",
    "            block_index += 1\n",
    "        return True"
   ]
  },
  {
   "cell_type": "code",
   "execution_count": 3,
   "id": "7b5bbcb1",
   "metadata": {},
   "outputs": [],
   "source": [
    "#Mine\n",
    "\n",
    "#Flask webapp\n",
    "#Call class\n",
    "app = Flask(__name__)\n",
    "\n",
    "\n",
    "blockchain = Blockchain()\n",
    "\n",
    "#To mine\n",
    "@app.route('/mine_block', methods = ['GET'])\n",
    "def mine_block():\n",
    "    previous_block = blockchain.get_previous_block()\n",
    "    previous_proof = previous_block['proof']\n",
    "    proof = blockchain.proof_of_work(previous_proof)\n",
    "    previous_hash = blockchain.hash(previous_block)\n",
    "    block = blockchain.create_block(proof, previous_hash)\n",
    "    response = {'message': 'A Block Has Been Mined',\n",
    "                'index': block['index'],\n",
    "                'timestamp': block['timestamp'],\n",
    "                'proof': block['proof'],\n",
    "                'previous_hash': block['previous_hash']}\n",
    "    return jsonify(response), 200\n",
    "\n",
    "#View blockchain in app\n",
    "@app.route('/get_chain', methods = ['GET'])\n",
    "def get_chain():\n",
    "    response = {'chain': blockchain.chain,\n",
    "                'length': len(blockchain.chain)}\n",
    "    return jsonify(response), 200\n",
    "\n",
    "#Validity\n",
    "@app.route('/is_valid', methods = ['GET'])\n",
    "def is_valid():\n",
    "    is_valid = blockchain.is_chain_valid(blockchain.chain)\n",
    "    if is_valid:\n",
    "        response = {'message': 'Valididty Confirmed'}\n",
    "    else:\n",
    "        response = {'message': 'Validity Denied'}\n",
    "    return jsonify(response), 200"
   ]
  },
  {
   "cell_type": "code",
   "execution_count": 4,
   "id": "a06f4a5e",
   "metadata": {},
   "outputs": [
    {
     "name": "stdout",
     "output_type": "stream",
     "text": [
      " * Serving Flask app '__main__' (lazy loading)\n",
      " * Environment: production\n",
      "   WARNING: This is a development server. Do not use it in a production deployment.\n",
      "   Use a production WSGI server instead.\n",
      " * Debug mode: off\n"
     ]
    },
    {
     "name": "stderr",
     "output_type": "stream",
     "text": [
      " * Running on all addresses.\n",
      "   WARNING: This is a development server. Do not use it in a production deployment.\n",
      " * Running on http://192.168.0.204:5000/ (Press CTRL+C to quit)\n",
      "127.0.0.1 - - [09/Jun/2021 00:28:59] \"GET /get_chain HTTP/1.1\" 200 -\n",
      "127.0.0.1 - - [09/Jun/2021 00:29:24] \"GET /mine_block HTTP/1.1\" 200 -\n",
      "127.0.0.1 - - [09/Jun/2021 00:29:27] \"GET /mine_block HTTP/1.1\" 200 -\n",
      "127.0.0.1 - - [09/Jun/2021 00:29:31] \"GET /mine_block HTTP/1.1\" 200 -\n",
      "127.0.0.1 - - [09/Jun/2021 00:29:33] \"GET /mine_block HTTP/1.1\" 200 -\n",
      "127.0.0.1 - - [09/Jun/2021 00:29:36] \"GET /mine_block HTTP/1.1\" 200 -\n",
      "127.0.0.1 - - [09/Jun/2021 00:29:37] \"GET /mine_block HTTP/1.1\" 200 -\n",
      "127.0.0.1 - - [09/Jun/2021 00:29:48] \"GET /get_chain HTTP/1.1\" 200 -\n",
      "127.0.0.1 - - [09/Jun/2021 00:30:33] \"GET /is_valid HTTP/1.1\" 200 -\n"
     ]
    },
    {
     "ename": "TypeError",
     "evalue": "'NoneType' object is not callable",
     "output_type": "error",
     "traceback": [
      "\u001b[1;31m---------------------------------------------------------------------------\u001b[0m",
      "\u001b[1;31mTypeError\u001b[0m                                 Traceback (most recent call last)",
      "\u001b[1;32m<ipython-input-4-0c668a0706dc>\u001b[0m in \u001b[0;36m<module>\u001b[1;34m\u001b[0m\n\u001b[0;32m      3\u001b[0m \u001b[1;31m#Run in IDE/CMD\u001b[0m\u001b[1;33m\u001b[0m\u001b[1;33m\u001b[0m\u001b[1;33m\u001b[0m\u001b[0m\n\u001b[0;32m      4\u001b[0m \u001b[1;31m#Go to postman, select GET, paste and select one of the routes\u001b[0m\u001b[1;33m\u001b[0m\u001b[1;33m\u001b[0m\u001b[1;33m\u001b[0m\u001b[0m\n\u001b[1;32m----> 5\u001b[1;33m \u001b[0mapp\u001b[0m\u001b[1;33m.\u001b[0m\u001b[0mrun\u001b[0m\u001b[1;33m(\u001b[0m\u001b[0mhost\u001b[0m \u001b[1;33m=\u001b[0m \u001b[1;34m'0.0.0.0'\u001b[0m\u001b[1;33m,\u001b[0m \u001b[0mport\u001b[0m \u001b[1;33m=\u001b[0m \u001b[1;36m5000\u001b[0m\u001b[1;33m)\u001b[0m\u001b[1;33m(\u001b[0m\u001b[0mdebug\u001b[0m\u001b[1;33m=\u001b[0m\u001b[1;32mTrue\u001b[0m\u001b[1;33m)\u001b[0m\u001b[1;33m\u001b[0m\u001b[1;33m\u001b[0m\u001b[0m\n\u001b[0m",
      "\u001b[1;31mTypeError\u001b[0m: 'NoneType' object is not callable"
     ]
    }
   ],
   "source": [
    "#Running:\n",
    "#Install latest flask\n",
    "#Run in IDE/CMD\n",
    "#Go to postman, select GET, paste http://127.0.0.1:5000/ and select one of the routes\n",
    "app.run(host = '0.0.0.0', port = 5000)(debug=True)"
   ]
  }
 ],
 "metadata": {
  "kernelspec": {
   "display_name": "Python 3",
   "language": "python",
   "name": "python3"
  },
  "language_info": {
   "codemirror_mode": {
    "name": "ipython",
    "version": 3
   },
   "file_extension": ".py",
   "mimetype": "text/x-python",
   "name": "python",
   "nbconvert_exporter": "python",
   "pygments_lexer": "ipython3",
   "version": "3.8.8"
  }
 },
 "nbformat": 4,
 "nbformat_minor": 5
}
